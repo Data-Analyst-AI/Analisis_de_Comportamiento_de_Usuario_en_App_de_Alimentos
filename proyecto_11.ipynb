{
 "cells": [
  {
   "cell_type": "markdown",
   "id": "ec9e741c",
   "metadata": {},
   "source": [
    "### Trabajas en una empresa emergente que vende productos alimenticios. Debes investigar el comportamiento del usuario para la aplicación de la empresa."
   ]
  },
  {
   "cell_type": "code",
   "execution_count": 1,
   "id": "a1795892",
   "metadata": {},
   "outputs": [],
   "source": [
    "# Cargar las librerias \n",
    "\n",
    "import pandas as pd\n",
    "import numpy as np\n",
    "import datetime as dt\n",
    "import matplotlib.pyplot as plt\n",
    "import seaborn as sns\n",
    "import scipy.stats as stats\n",
    "from scipy.stats import ttest_ind\n",
    "from scipy.stats import chi2_contingency\n"
   ]
  },
  {
   "cell_type": "markdown",
   "id": "81dfd4ec",
   "metadata": {},
   "source": [
    "Paso 1. Abrir el archivo de datos y leer la información general"
   ]
  },
  {
   "cell_type": "code",
   "execution_count": 2,
   "id": "e96240f2",
   "metadata": {},
   "outputs": [
    {
     "data": {
      "text/html": [
       "<div>\n",
       "<style scoped>\n",
       "    .dataframe tbody tr th:only-of-type {\n",
       "        vertical-align: middle;\n",
       "    }\n",
       "\n",
       "    .dataframe tbody tr th {\n",
       "        vertical-align: top;\n",
       "    }\n",
       "\n",
       "    .dataframe thead th {\n",
       "        text-align: right;\n",
       "    }\n",
       "</style>\n",
       "<table border=\"1\" class=\"dataframe\">\n",
       "  <thead>\n",
       "    <tr style=\"text-align: right;\">\n",
       "      <th></th>\n",
       "      <th>EventName</th>\n",
       "      <th>DeviceIDHash</th>\n",
       "      <th>EventTimestamp</th>\n",
       "      <th>ExpId</th>\n",
       "    </tr>\n",
       "  </thead>\n",
       "  <tbody>\n",
       "    <tr>\n",
       "      <th>0</th>\n",
       "      <td>MainScreenAppear</td>\n",
       "      <td>4575588528974610257</td>\n",
       "      <td>1564029816</td>\n",
       "      <td>246</td>\n",
       "    </tr>\n",
       "    <tr>\n",
       "      <th>1</th>\n",
       "      <td>MainScreenAppear</td>\n",
       "      <td>7416695313311560658</td>\n",
       "      <td>1564053102</td>\n",
       "      <td>246</td>\n",
       "    </tr>\n",
       "    <tr>\n",
       "      <th>2</th>\n",
       "      <td>PaymentScreenSuccessful</td>\n",
       "      <td>3518123091307005509</td>\n",
       "      <td>1564054127</td>\n",
       "      <td>248</td>\n",
       "    </tr>\n",
       "    <tr>\n",
       "      <th>3</th>\n",
       "      <td>CartScreenAppear</td>\n",
       "      <td>3518123091307005509</td>\n",
       "      <td>1564054127</td>\n",
       "      <td>248</td>\n",
       "    </tr>\n",
       "    <tr>\n",
       "      <th>4</th>\n",
       "      <td>PaymentScreenSuccessful</td>\n",
       "      <td>6217807653094995999</td>\n",
       "      <td>1564055322</td>\n",
       "      <td>248</td>\n",
       "    </tr>\n",
       "  </tbody>\n",
       "</table>\n",
       "</div>"
      ],
      "text/plain": [
       "                 EventName         DeviceIDHash  EventTimestamp  ExpId\n",
       "0         MainScreenAppear  4575588528974610257      1564029816    246\n",
       "1         MainScreenAppear  7416695313311560658      1564053102    246\n",
       "2  PaymentScreenSuccessful  3518123091307005509      1564054127    248\n",
       "3         CartScreenAppear  3518123091307005509      1564054127    248\n",
       "4  PaymentScreenSuccessful  6217807653094995999      1564055322    248"
      ]
     },
     "metadata": {},
     "output_type": "display_data"
    },
    {
     "name": "stdout",
     "output_type": "stream",
     "text": [
      "<class 'pandas.core.frame.DataFrame'>\n",
      "RangeIndex: 244126 entries, 0 to 244125\n",
      "Data columns (total 4 columns):\n",
      " #   Column          Non-Null Count   Dtype \n",
      "---  ------          --------------   ----- \n",
      " 0   EventName       244126 non-null  object\n",
      " 1   DeviceIDHash    244126 non-null  int64 \n",
      " 2   EventTimestamp  244126 non-null  int64 \n",
      " 3   ExpId           244126 non-null  int64 \n",
      "dtypes: int64(3), object(1)\n",
      "memory usage: 7.5+ MB\n"
     ]
    },
    {
     "data": {
      "text/plain": [
       "None"
      ]
     },
     "metadata": {},
     "output_type": "display_data"
    }
   ],
   "source": [
    "# Cargar el dataset */datasets/logs_exp_us.csv*\n",
    "\n",
    "users = pd.read_csv('logs_exp_us.csv', sep='\\t')\n",
    "\n",
    "# Mostrar las primeras 5 líneas del df\n",
    "display(users.head())\n",
    "print\n",
    "# Mostrar la información del df\n",
    "display(users.info())"
   ]
  },
  {
   "cell_type": "markdown",
   "id": "b6386d04",
   "metadata": {},
   "source": [
    "Paso 2. Preparar los datos para el análisis"
   ]
  },
  {
   "cell_type": "code",
   "execution_count": 3,
   "id": "6b6d5235",
   "metadata": {},
   "outputs": [],
   "source": [
    "# Renombrar las columnas \n",
    "\n",
    "users.rename(columns={\n",
    "    'EventName': 'event_name',\n",
    "    'DeviceIDHash': 'device_id',\n",
    "    'EventTimestamp': 'event_timestamp',\n",
    "    'ExpId': 'exp_id'\n",
    "}, inplace=True)"
   ]
  },
  {
   "cell_type": "code",
   "execution_count": 4,
   "id": "fdad9349",
   "metadata": {},
   "outputs": [
    {
     "name": "stdout",
     "output_type": "stream",
     "text": [
      "<class 'pandas.core.frame.DataFrame'>\n",
      "RangeIndex: 244126 entries, 0 to 244125\n",
      "Data columns (total 4 columns):\n",
      " #   Column           Non-Null Count   Dtype \n",
      "---  ------           --------------   ----- \n",
      " 0   event_name       244126 non-null  object\n",
      " 1   device_id        244126 non-null  int64 \n",
      " 2   event_timestamp  244126 non-null  int64 \n",
      " 3   exp_id           244126 non-null  int64 \n",
      "dtypes: int64(3), object(1)\n",
      "memory usage: 7.5+ MB\n"
     ]
    },
    {
     "data": {
      "text/plain": [
       "None"
      ]
     },
     "metadata": {},
     "output_type": "display_data"
    },
    {
     "data": {
      "text/plain": [
       "event_name         0\n",
       "device_id          0\n",
       "event_timestamp    0\n",
       "exp_id             0\n",
       "dtype: int64"
      ]
     },
     "metadata": {},
     "output_type": "display_data"
    }
   ],
   "source": [
    "# verificar los cambios y checar si tenemos # nulos\n",
    "\n",
    "display(users.info())  # Para revisar los tipos de datos\n",
    "display(users.isnull().sum())  # Para contar valores ausentes"
   ]
  },
  {
   "cell_type": "code",
   "execution_count": 5,
   "id": "a6e8378f",
   "metadata": {},
   "outputs": [
    {
     "data": {
      "text/html": [
       "<div>\n",
       "<style scoped>\n",
       "    .dataframe tbody tr th:only-of-type {\n",
       "        vertical-align: middle;\n",
       "    }\n",
       "\n",
       "    .dataframe tbody tr th {\n",
       "        vertical-align: top;\n",
       "    }\n",
       "\n",
       "    .dataframe thead th {\n",
       "        text-align: right;\n",
       "    }\n",
       "</style>\n",
       "<table border=\"1\" class=\"dataframe\">\n",
       "  <thead>\n",
       "    <tr style=\"text-align: right;\">\n",
       "      <th></th>\n",
       "      <th>event_name</th>\n",
       "      <th>device_id</th>\n",
       "      <th>event_timestamp</th>\n",
       "      <th>exp_id</th>\n",
       "      <th>event_date</th>\n",
       "    </tr>\n",
       "  </thead>\n",
       "  <tbody>\n",
       "    <tr>\n",
       "      <th>0</th>\n",
       "      <td>MainScreenAppear</td>\n",
       "      <td>4575588528974610257</td>\n",
       "      <td>2019-07-25 04:43:36</td>\n",
       "      <td>246</td>\n",
       "      <td>2019-07-25</td>\n",
       "    </tr>\n",
       "    <tr>\n",
       "      <th>1</th>\n",
       "      <td>MainScreenAppear</td>\n",
       "      <td>7416695313311560658</td>\n",
       "      <td>2019-07-25 11:11:42</td>\n",
       "      <td>246</td>\n",
       "      <td>2019-07-25</td>\n",
       "    </tr>\n",
       "    <tr>\n",
       "      <th>2</th>\n",
       "      <td>PaymentScreenSuccessful</td>\n",
       "      <td>3518123091307005509</td>\n",
       "      <td>2019-07-25 11:28:47</td>\n",
       "      <td>248</td>\n",
       "      <td>2019-07-25</td>\n",
       "    </tr>\n",
       "    <tr>\n",
       "      <th>3</th>\n",
       "      <td>CartScreenAppear</td>\n",
       "      <td>3518123091307005509</td>\n",
       "      <td>2019-07-25 11:28:47</td>\n",
       "      <td>248</td>\n",
       "      <td>2019-07-25</td>\n",
       "    </tr>\n",
       "    <tr>\n",
       "      <th>4</th>\n",
       "      <td>PaymentScreenSuccessful</td>\n",
       "      <td>6217807653094995999</td>\n",
       "      <td>2019-07-25 11:48:42</td>\n",
       "      <td>248</td>\n",
       "      <td>2019-07-25</td>\n",
       "    </tr>\n",
       "  </tbody>\n",
       "</table>\n",
       "</div>"
      ],
      "text/plain": [
       "                event_name            device_id     event_timestamp  exp_id  \\\n",
       "0         MainScreenAppear  4575588528974610257 2019-07-25 04:43:36     246   \n",
       "1         MainScreenAppear  7416695313311560658 2019-07-25 11:11:42     246   \n",
       "2  PaymentScreenSuccessful  3518123091307005509 2019-07-25 11:28:47     248   \n",
       "3         CartScreenAppear  3518123091307005509 2019-07-25 11:28:47     248   \n",
       "4  PaymentScreenSuccessful  6217807653094995999 2019-07-25 11:48:42     248   \n",
       "\n",
       "  event_date  \n",
       "0 2019-07-25  \n",
       "1 2019-07-25  \n",
       "2 2019-07-25  \n",
       "3 2019-07-25  \n",
       "4 2019-07-25  "
      ]
     },
     "metadata": {},
     "output_type": "display_data"
    },
    {
     "name": "stdout",
     "output_type": "stream",
     "text": [
      "\n",
      "<class 'pandas.core.frame.DataFrame'>\n",
      "RangeIndex: 244126 entries, 0 to 244125\n",
      "Data columns (total 5 columns):\n",
      " #   Column           Non-Null Count   Dtype         \n",
      "---  ------           --------------   -----         \n",
      " 0   event_name       244126 non-null  object        \n",
      " 1   device_id        244126 non-null  int64         \n",
      " 2   event_timestamp  244126 non-null  datetime64[ns]\n",
      " 3   exp_id           244126 non-null  int64         \n",
      " 4   event_date       244126 non-null  datetime64[ns]\n",
      "dtypes: datetime64[ns](2), int64(2), object(1)\n",
      "memory usage: 9.3+ MB\n"
     ]
    },
    {
     "data": {
      "text/plain": [
       "None"
      ]
     },
     "metadata": {},
     "output_type": "display_data"
    }
   ],
   "source": [
    "# Agrega una columna de fecha y hora y una columna separada para las fechas\n",
    "\n",
    "users['event_timestamp'] = pd.to_datetime(users['event_timestamp'], unit='s')\n",
    "users['event_date'] = users['event_timestamp'].dt.date\n",
    "users['event_date'] = pd.to_datetime(users['event_date'])\n",
    "\n",
    "display(users.head())\n",
    "print()\n",
    "display(users.info())\n"
   ]
  },
  {
   "cell_type": "markdown",
   "id": "25998f6d",
   "metadata": {},
   "source": [
    "Paso 3. Estudiar y comprobar los datos"
   ]
  },
  {
   "cell_type": "code",
   "execution_count": 6,
   "id": "4bf7adfc",
   "metadata": {},
   "outputs": [
    {
     "name": "stdout",
     "output_type": "stream",
     "text": [
      "Total de eventos registrados: 244126\n"
     ]
    }
   ],
   "source": [
    "# ¿Cuántos eventos hay en los registros?\n",
    "\n",
    "num_events = users.shape[0]\n",
    "print(f\"Total de eventos registrados: {num_events}\")"
   ]
  },
  {
   "cell_type": "code",
   "execution_count": 7,
   "id": "eb778994",
   "metadata": {},
   "outputs": [
    {
     "name": "stdout",
     "output_type": "stream",
     "text": [
      "Total de usuarios únicos: 7551\n"
     ]
    }
   ],
   "source": [
    "# ¿Cuántos usuarios hay en los registros?\n",
    "\n",
    "num_users = users['device_id'].nunique()\n",
    "print(f\"Total de usuarios únicos: {num_users}\")"
   ]
  },
  {
   "cell_type": "code",
   "execution_count": 8,
   "id": "2a1e31ea",
   "metadata": {},
   "outputs": [
    {
     "name": "stdout",
     "output_type": "stream",
     "text": [
      "Promedio de eventos por usuario: 32.33\n"
     ]
    }
   ],
   "source": [
    "# ¿Cuál es el promedio de eventos por usuario?\n",
    "\n",
    "avg_events_users = num_events / num_users\n",
    "print(f\"Promedio de eventos por usuario: {avg_events_users:.2f}\")"
   ]
  },
  {
   "cell_type": "code",
   "execution_count": 9,
   "id": "0e7064cf",
   "metadata": {},
   "outputs": [
    {
     "name": "stdout",
     "output_type": "stream",
     "text": [
      "Fecha más antigua en los registros: 2019-07-25 04:43:36\n",
      "Fecha más reciente en los registros: 2019-08-07 21:15:17\n"
     ]
    }
   ],
   "source": [
    "# Encuentra la fecha máxima y mínima\n",
    "\n",
    "fecha_min = users['event_timestamp'].min()\n",
    "fecha_max = users['event_timestamp'].max()\n",
    "\n",
    "print(f\"Fecha más antigua en los registros: {fecha_min}\")\n",
    "print(f\"Fecha más reciente en los registros: {fecha_max}\")"
   ]
  },
  {
   "cell_type": "code",
   "execution_count": 10,
   "id": "23bd900d",
   "metadata": {},
   "outputs": [
    {
     "data": {
      "image/png": "[encoded data removed]",
      "text/plain": [
       "<Figure size 1200x600 with 1 Axes>"
      ]
     },
     "metadata": {},
     "output_type": "display_data"
    }
   ],
   "source": [
    "# Traza un histograma por fecha y hora\n",
    "\n",
    "plt.figure(figsize=(12,6))\n",
    "users['event_timestamp'].hist(bins=50, color='skyblue', edgecolor='black')\n",
    "\n",
    "plt.xlabel(\"Fecha y Hora\")\n",
    "plt.ylabel(\"Cantidad de eventos\")\n",
    "plt.title(\"Histograma de eventos en el tiempo\")\n",
    "plt.xticks(rotation=45)  # Girar etiquetas para mejor lectura\n",
    "plt.show()"
   ]
  },
  {
   "cell_type": "markdown",
   "id": "c99280f6",
   "metadata": {},
   "source": [
    "Evaluación de la completitud de los datos:\n",
    "    \n",
    "El histograma muestra que los eventos registrados aumentan significativamente a partir del 31 de julio de 2019,\n",
    "mientras que los días anteriores (del 25 al 30 de julio) tienen una cantidad mucho menor de eventos. \n",
    "Esto podría indicar que los primeros días no tienen datos completos, lo que puede sesgar el análisis si los consideramos.\n",
    "\n",
    "### Determinación del periodo representativo:\n",
    "    \n",
    "Para identificar el momento en que los datos realmente comienzan a ser representativos, \n",
    "podemos establecer un punto de corte en el 31 de julio de 2019 y enfocarnos solo en los registros posteriores."
   ]
  },
  {
   "cell_type": "code",
   "execution_count": 81,
   "id": "9d86ea96",
   "metadata": {},
   "outputs": [
    {
     "name": "stdout",
     "output_type": "stream",
     "text": [
      "             event_name            device_id     event_timestamp  exp_id  \\\n",
      "797    MainScreenAppear  3670880358399219515 2019-07-31 01:11:46     247   \n",
      "798  OffersScreenAppear  3799109751993694887 2019-07-31 01:21:04     248   \n",
      "799            Tutorial  1126021718529336913 2019-07-31 01:32:11     247   \n",
      "800    MainScreenAppear  4293428370257583636 2019-07-31 02:19:18     248   \n",
      "801    MainScreenAppear  4567464647598975872 2019-07-31 02:33:30     247   \n",
      "802    MainScreenAppear   416669255233170069 2019-07-31 03:07:07     247   \n",
      "803    MainScreenAppear  6983610287457587320 2019-07-31 03:15:43     246   \n",
      "804    MainScreenAppear  6983610287457587320 2019-07-31 03:16:09     246   \n",
      "805  OffersScreenAppear   739045881004858643 2019-07-31 03:16:11     247   \n",
      "806  OffersScreenAppear  4488872957350882913 2019-07-31 03:24:46     246   \n",
      "\n",
      "    event_date  \n",
      "797 2019-07-31  \n",
      "798 2019-07-31  \n",
      "799 2019-07-31  \n",
      "800 2019-07-31  \n",
      "801 2019-07-31  \n",
      "802 2019-07-31  \n",
      "803 2019-07-31  \n",
      "804 2019-07-31  \n",
      "805 2019-07-31  \n",
      "806 2019-07-31  \n"
     ]
    }
   ],
   "source": [
    "representative_period = \"2019-07-31\"\n",
    "users_filtered = users[users['event_date'] >= representative_period]\n",
    "print(users_filtered.head(10))"
   ]
  },
  {
   "cell_type": "code",
   "execution_count": 95,
   "id": "2bf23894",
   "metadata": {},
   "outputs": [
    {
     "name": "stdout",
     "output_type": "stream",
     "text": [
      "Eventos antes del filtro: 244126\n",
      "Eventos después del filtro: 243329\n",
      "Eventos perdidos: 797 (0.33%)\n"
     ]
    }
   ],
   "source": [
    "# ¿Perdiste muchos eventos al excluir los datos más antiguos?\n",
    "\n",
    "# Número de eventos antes y después \n",
    "num_events_before = users.shape[0]\n",
    "num_events_after = users_filtered.shape[0]\n",
    "\n",
    "print(f\"Eventos antes del filtro: {num_events_before}\")\n",
    "print(f\"Eventos después del filtro: {num_events_after}\")\n",
    "\n",
    "# Calcular porcentaje de eventos perdidos\n",
    "percentage_events = (num_events_before - num_events_after) / num_events_before * 100\n",
    "print(f\"Eventos perdidos: {num_events_before - num_events_after} ({percentage_events:.2f}%)\")\n"
   ]
  },
  {
   "cell_type": "code",
   "execution_count": null,
   "id": "20db3a56",
   "metadata": {},
   "outputs": [
    {
     "name": "stdout",
     "output_type": "stream",
     "text": [
      "Usuarios antes del filtro: 7551\n",
      "Usuarios después del filtro: 7542\n",
      "Usuarios perdidos: 9 (0.12%)\n"
     ]
    }
   ],
   "source": [
    "# # ¿Perdiste muchos usuarios al excluir los datos más antiguos?\n",
    "\n",
    "# Número de usuarios antes y después\n",
    "num_users_before = users['device_id'].nunique()                  \n",
    "num_users_after = users_filtered['device_id'].nunique()\n",
    "\n",
    "print(f\"Usuarios antes del filtro: {num_users_before}\")\n",
    "print(f\"Usuarios después del filtro: {num_users_after}\")\n",
    "\n",
    "# Calcular porcentaje de usuarios perdidos\n",
    "percentage_users = (num_users_before - num_users_after) / num_users_before * 100\n",
    "print(f\"Usuarios perdidos: {num_users_before - num_users_after} ({percentage_users:.2f}%)\")"
   ]
  },
  {
   "cell_type": "markdown",
   "id": "e985e387",
   "metadata": {},
   "source": [
    " Eventos perdidos:\n",
    " - Perdimos 797 eventos, lo que representa solo 0.33% del total.\n",
    "- Esta diferencia es mínima, por lo que no debería afectar significativamente el análisis.\n",
    "\n",
    "Usuarios perdidos:\n",
    "- Solo 9 usuarios fueron eliminados tras el filtrado, es decir, 0.12% del total.\n",
    "- Esto sugiere que los datos siguen siendo representativos y que no afectamos la diversidad de usuarios en el estudio.\n"
   ]
  },
  {
   "cell_type": "code",
   "execution_count": 93,
   "id": "bae41134",
   "metadata": {},
   "outputs": [
    {
     "name": "stdout",
     "output_type": "stream",
     "text": [
      "exp_id\n",
      "248    85473\n",
      "246    80045\n",
      "247    77811\n",
      "Name: count, dtype: int64\n"
     ]
    }
   ],
   "source": [
    "# Asegúrate de tener usuarios de los tres grupos experimentales.\n",
    "\n",
    "print(users_filtered['exp_id'].value_counts())"
   ]
  },
  {
   "cell_type": "markdown",
   "id": "9559ebf1",
   "metadata": {},
   "source": [
    "La distribución sigue siendo bastante equilibrada:\n",
    "- Grupo de prueba (ExpId 248): 85,473 eventos\n",
    "- Grupo de control 1 (ExpId 246): 80,045 eventos\n",
    "- Grupo de control 2 (ExpId 247): 77,811 eventos\n",
    "\n",
    "Conclusión:\n",
    "El filtro aplicado no eliminó ninguna de las condiciones experimentales. La cantidad de eventos en cada grupo es relativamente similar, lo que nos da confianza para seguir con el análisis sin riesgos de sesgo.\n"
   ]
  },
  {
   "cell_type": "markdown",
   "id": "4df96d56",
   "metadata": {},
   "source": [
    "Paso 4. Estudiar el embudo de eventos"
   ]
  },
  {
   "cell_type": "code",
   "execution_count": null,
   "id": "08d85dfa",
   "metadata": {},
   "outputs": [
    {
     "name": "stdout",
     "output_type": "stream",
     "text": [
      "event_name\n",
      "MainScreenAppear           118681\n",
      "OffersScreenAppear          46724\n",
      "CartScreenAppear            42623\n",
      "PaymentScreenSuccessful     34253\n",
      "Tutorial                     1048\n",
      "Name: count, dtype: int64\n"
     ]
    }
   ],
   "source": [
    "# Observa qué eventos hay en los registros y su frecuencia de suceso. Ordénalos por frecuencia.\n",
    "\n",
    "events_frequency = users_filtered['event_name'].value_counts()\n",
    "print(events_frequency)"
   ]
  },
  {
   "cell_type": "code",
   "execution_count": 137,
   "id": "9a862484",
   "metadata": {},
   "outputs": [
    {
     "data": {
      "image/png": "[encoded data removed]",
      "text/plain": [
       "<Figure size 1200x600 with 1 Axes>"
      ]
     },
     "metadata": {},
     "output_type": "display_data"
    }
   ],
   "source": [
    "# Tomar los 10 eventos más frecuentes\n",
    "top_events = events_frequency.head(10)\n",
    "\n",
    "plt.figure(figsize=(12,6))\n",
    "top_events.plot(kind='bar', color='skyblue', edgecolor='black')\n",
    "\n",
    "plt.xlabel(\"Eventos\")\n",
    "plt.ylabel(\"Frecuencia\")\n",
    "plt.title(\"Eventos más comunes en los registros\")\n",
    "plt.xticks(rotation=45)\n",
    "plt.show()"
   ]
  },
  {
   "cell_type": "code",
   "execution_count": 102,
   "id": "6a7c3dc2",
   "metadata": {},
   "outputs": [
    {
     "name": "stdout",
     "output_type": "stream",
     "text": [
      "event_name\n",
      "CartScreenAppear           3742\n",
      "MainScreenAppear           7429\n",
      "OffersScreenAppear         4606\n",
      "PaymentScreenSuccessful    3542\n",
      "Tutorial                    845\n",
      "Name: device_id, dtype: int64\n"
     ]
    }
   ],
   "source": [
    "# Encuentra la cantidad de usuarios que realizaron cada una de estas acciones\n",
    "\n",
    "users_per_event = users_filtered.groupby('event_name')['device_id'].nunique()\n",
    "print(users_per_event)"
   ]
  },
  {
   "cell_type": "code",
   "execution_count": 103,
   "id": "6d992e10",
   "metadata": {},
   "outputs": [
    {
     "name": "stdout",
     "output_type": "stream",
     "text": [
      "event_name\n",
      "MainScreenAppear           7429\n",
      "OffersScreenAppear         4606\n",
      "CartScreenAppear           3742\n",
      "PaymentScreenSuccessful    3542\n",
      "Tutorial                    845\n",
      "Name: device_id, dtype: int64\n"
     ]
    }
   ],
   "source": [
    "# Ordena los eventos por el número de usuarios\n",
    "\n",
    "users_per_event = users_per_event.sort_values(ascending=False)\n",
    "print(users_per_event)"
   ]
  },
  {
   "cell_type": "code",
   "execution_count": 104,
   "id": "51f6f082",
   "metadata": {},
   "outputs": [
    {
     "name": "stdout",
     "output_type": "stream",
     "text": [
      "event_name\n",
      "MainScreenAppear           98.501724\n",
      "OffersScreenAppear         61.071334\n",
      "CartScreenAppear           49.615487\n",
      "PaymentScreenSuccessful    46.963670\n",
      "Tutorial                   11.203925\n",
      "Name: device_id, dtype: float64\n"
     ]
    }
   ],
   "source": [
    "# Calcula la proporción de usuarios que realizaron la acción al menos una vez.\n",
    "\n",
    "user_proportion = users_per_event / users_filtered['device_id'].nunique() * 100\n",
    "print(user_proportion)"
   ]
  },
  {
   "cell_type": "markdown",
   "id": "534ac7a1",
   "metadata": {},
   "source": [
    "Este análisis nos ayudará a detectar los eventos clave en el embudo, como interacciones comunes o eventos con baja participación.\n",
    "\n",
    "1. MainScreenAppear → Los usuarios comienzan su recorrido al entrar a la pantalla principal.\n",
    "2. CartScreenAppear → Algunos navegan y añaden productos al carrito.\n",
    "3. PaymentScreenSuccessful → Finalizan la compra con un pago exitoso."
   ]
  },
  {
   "cell_type": "code",
   "execution_count": null,
   "id": "f3a64cbf",
   "metadata": {},
   "outputs": [
    {
     "name": "stdout",
     "output_type": "stream",
     "text": [
      "event_name\n",
      "MainScreenAppear          2019-07-31 01:11:46\n",
      "OffersScreenAppear        2019-07-31 01:21:04\n",
      "Tutorial                  2019-07-31 01:32:11\n",
      "PaymentScreenSuccessful   2019-07-31 04:26:56\n",
      "CartScreenAppear          2019-07-31 04:26:57\n",
      "Name: event_timestamp, dtype: datetime64[ns]\n"
     ]
    }
   ],
   "source": [
    "# ¿En qué orden crees que ocurrieron las acciones? \n",
    "\n",
    "event_order = users_filtered.groupby('event_name')['event_timestamp'].min().sort_values()\n",
    "print(event_order)"
   ]
  },
  {
   "cell_type": "markdown",
   "id": "068581a8",
   "metadata": {},
   "source": [
    " Para decidir qué eventos incluir en el embudo, podemos analizar: \n",
    "\n",
    "1. Eventos que ocurren en una secuencia lógica → Si un evento depende de otro para ocurrir, es parte del embudo. \n",
    "Ejemplo: navegar por la pantalla principal, agregar productos al carrito y luego completar una compra.\n",
    "\n",
    "2. Eventos secundarios o informativos → Eventos como \"MainScreenAppear\" pueden ser relevantes, \n",
    "pero no determinantes en la conversión.\n",
    "\n",
    "3. Variabilidad en la participación → Si un evento es opcional para los usuarios (por ejemplo, revisar una oferta), \n",
    "es posible que no forme parte del embudo central."
   ]
  },
  {
   "cell_type": "code",
   "execution_count": 107,
   "id": "be2e9b61",
   "metadata": {},
   "outputs": [
    {
     "name": "stdout",
     "output_type": "stream",
     "text": [
      "Usuarios que pasaron de pantalla principal al carrito: 50.37%\n",
      "Usuarios que pasaron del carrito al pago exitoso: 94.66%\n"
     ]
    }
   ],
   "source": [
    "# Utiliza el embudo de eventos para encontrar la proporción de usuarios que pasan de una etapa a la siguiente\n",
    "\n",
    "# Definir la secuencia de eventos\n",
    "funnel_events = [\"MainScreenAppear\", \"CartScreenAppear\", \"PaymentScreenSuccessful\"]\n",
    "\n",
    "# Contar usuarios únicos en cada evento\n",
    "funnel_users = {event: users_filtered[users_filtered[\"event_name\"] == event][\"device_id\"].nunique() for event in funnel_events}\n",
    "\n",
    "# Calcular proporciones de conversión\n",
    "proportion_cart = funnel_users[\"CartScreenAppear\"] / funnel_users[\"MainScreenAppear\"] * 100\n",
    "proportion_payment = funnel_users[\"PaymentScreenSuccessful\"] / funnel_users[\"CartScreenAppear\"] * 100\n",
    "\n",
    "# Mostrar resultados\n",
    "print(f\"Usuarios que pasaron de pantalla principal al carrito: {proportion_cart:.2f}%\")\n",
    "print(f\"Usuarios que pasaron del carrito al pago exitoso: {proportion_payment:.2f}%\")"
   ]
  },
  {
   "cell_type": "code",
   "execution_count": 108,
   "id": "941c89bd",
   "metadata": {},
   "outputs": [
    {
     "name": "stdout",
     "output_type": "stream",
     "text": [
      "La mayor pérdida ocurre entre la pantalla principal y el carrito: 3687 usuarios.\n"
     ]
    }
   ],
   "source": [
    "# ¿En qué etapa pierdes más usuarios?\n",
    "\n",
    "# Cálculo de pérdidas en cada transición\n",
    "lost_cart = funnel_users[\"MainScreenAppear\"] - funnel_users[\"CartScreenAppear\"]\n",
    "lost_payment = funnel_users[\"CartScreenAppear\"] - funnel_users[\"PaymentScreenSuccessful\"]\n",
    "\n",
    "# Mostrar dónde hay mayor pérdida\n",
    "if lost_cart > lost_payment:\n",
    "    print(f\"La mayor pérdida ocurre entre la pantalla principal y el carrito: {lost_cart} usuarios.\")\n",
    "else:\n",
    "    print(f\"La mayor pérdida ocurre entre el carrito y el pago exitoso: {lost_payment} usuarios.\")"
   ]
  },
  {
   "cell_type": "code",
   "execution_count": 109,
   "id": "237285a8",
   "metadata": {},
   "outputs": [
    {
     "name": "stdout",
     "output_type": "stream",
     "text": [
      "Porcentaje de usuarios que llegan hasta el pago exitoso: 47.68%\n"
     ]
    }
   ],
   "source": [
    "# ¿Qué porcentaje de usuarios hace todo el viaje desde su primer evento hasta el pago?\n",
    "\n",
    "percentage_complete_trip = funnel_users[\"PaymentScreenSuccessful\"] / funnel_users[\"MainScreenAppear\"] * 100\n",
    "print(f\"Porcentaje de usuarios que llegan hasta el pago exitoso: {percentage_complete_trip:.2f}%\")"
   ]
  },
  {
   "cell_type": "markdown",
   "id": "07fe0348",
   "metadata": {},
   "source": [
    "¿Qué significa este resultado?\n",
    "\n",
    "- Si el porcentaje fuera muy bajo (<20%), podríamos sospechar barreras importantes, como un proceso de compra complicado o falta de interés en los productos.\n",
    "- Si fuera más alto (>80%), el embudo estaría funcionando de manera eficiente, con poca pérdida de usuarios.\n",
    "- Un 47.68% es un rango razonable, pero aún deja espacio para mejorar. Identificar la mayor caída nos ayuda a entender en qué punto se pierden más usuarios.\n",
    "\n",
    "📌 Próximos pasos:\n",
    "\n",
    "Podemos investigar por qué algunos usuarios abandonan antes del pago. Algunas ideas:\n",
    "- Analizar tiempos de espera en cada paso (¿hay retrasos en la carga del carrito o pago?).\n",
    "- Revisar qué usuarios abandonan en la etapa clave (¿ciertos grupos experimentales tienen menor conversión?).\n",
    "- Examinar diferencias entre dispositivos (¿los usuarios de móvil completan menos compras que los de escritorio?).\n"
   ]
  },
  {
   "cell_type": "code",
   "execution_count": 110,
   "id": "0745b7ea",
   "metadata": {},
   "outputs": [
    {
     "name": "stdout",
     "output_type": "stream",
     "text": [
      "exp_id\n",
      "246    2485\n",
      "247    2517\n",
      "248    2540\n",
      "Name: device_id, dtype: int64\n"
     ]
    }
   ],
   "source": [
    "# ¿Cuántos usuarios hay en cada grupo?\n",
    "\n",
    "users_per_group = users_filtered.groupby('exp_id')['device_id'].nunique()\n",
    "print(users_per_group)"
   ]
  },
  {
   "cell_type": "code",
   "execution_count": null,
   "id": "a8aaa417",
   "metadata": {},
   "outputs": [
    {
     "name": "stdout",
     "output_type": "stream",
     "text": [
      "t-statistic: 0.7523278962554808\n",
      "P-valor: 0.45188931073096283\n",
      "✅ No hay diferencias significativas entre los grupos de control (como se esperaba en una prueba A/A).\n"
     ]
    }
   ],
   "source": [
    "# Obtener la cantidad de eventos por usuario en cada grupo\n",
    "events_246 = users_filtered[users_filtered[\"exp_id\"] == 246].groupby(\"device_id\").size()\n",
    "events_247 = users_filtered[users_filtered[\"exp_id\"] == 247].groupby(\"device_id\").size()\n",
    "\n",
    "# Aplicar prueba t\n",
    "t_stat, p_valor_t = ttest_ind(events_246, events_247)\n",
    "\n",
    "print(f\"t-statistic: {t_stat}\")\n",
    "print(f\"P-valor: {p_valor_t}\")\n",
    "\n",
    "# Interpretación del resultado\n",
    "if p_valor_t < 0.05:\n",
    "    print(\"⚠️ Hay una diferencia estadísticamente significativa entre los grupos 246 y 247.\")\n",
    "else:\n",
    "    print(\"✅ No hay diferencias significativas entre los grupos de control (como se esperaba en una prueba A/A).\")"
   ]
  },
  {
   "cell_type": "code",
   "execution_count": 115,
   "id": "57fe8d0c",
   "metadata": {},
   "outputs": [
    {
     "name": "stdout",
     "output_type": "stream",
     "text": [
      "El evento más popular es: MainScreenAppear\n"
     ]
    }
   ],
   "source": [
    "# Selecciona el evento más popular\n",
    "\n",
    "most_popular_event = users_filtered[\"event_name\"].value_counts().idxmax()\n",
    "print(f\"El evento más popular es: {most_popular_event}\")"
   ]
  },
  {
   "cell_type": "code",
   "execution_count": 116,
   "id": "69988176",
   "metadata": {},
   "outputs": [
    {
     "name": "stdout",
     "output_type": "stream",
     "text": [
      "exp_id\n",
      "246    2452\n",
      "247    2479\n",
      "248    2498\n",
      "Name: device_id, dtype: int64\n"
     ]
    }
   ],
   "source": [
    "# encuentra la cantidad de usuarios que realizaron esta acción\n",
    "\n",
    "users_per_group_event = users_filtered[users_filtered[\"event_name\"] == most_popular_event].groupby(\"exp_id\")[\"device_id\"].nunique()\n",
    "print(users_per_group_event)"
   ]
  },
  {
   "cell_type": "code",
   "execution_count": 118,
   "id": "5d1ec446",
   "metadata": {},
   "outputs": [
    {
     "name": "stdout",
     "output_type": "stream",
     "text": [
      "exp_id\n",
      "246    98.67\n",
      "247    98.49\n",
      "248    98.35\n",
      "Name: device_id, dtype: float64\n"
     ]
    }
   ],
   "source": [
    "# Calcular la proporción de usuarios por grupo\n",
    "# Dividimos la cantidad de usuarios que realizaron el evento entre el total de usuarios por grupo:\n",
    "\n",
    "event_proportion_per_group = users_per_group_event / users_per_group * 100\n",
    "print(event_proportion_per_group.round(2))"
   ]
  },
  {
   "cell_type": "code",
   "execution_count": 119,
   "id": "a44c0c83",
   "metadata": {},
   "outputs": [
    {
     "name": "stdout",
     "output_type": "stream",
     "text": [
      "Chi-cuadrado: 0.0\n",
      "P-valor: 1.0\n",
      "✅ No hay diferencias significativas entre los grupos, lo que indica una correcta división.\n"
     ]
    }
   ],
   "source": [
    "# Comprueba si la diferencia entre los grupos es estadísticamente significativa.\n",
    "\n",
    "# Construir tabla de contingencia con la cantidad de usuarios que realizaron el evento en cada grupo\n",
    "events_table = users_per_group_event.to_frame().T\n",
    "\n",
    "# Ejecutar prueba de chi-cuadrado\n",
    "chi2, p_valor, _, _ = chi2_contingency(events_table)\n",
    "\n",
    "print(f\"Chi-cuadrado: {chi2}\")\n",
    "print(f\"P-valor: {p_valor}\")\n",
    "\n",
    "# Interpretación del resultado\n",
    "if p_valor < 0.05:\n",
    "    print(\"⚠️ Hay una diferencia estadísticamente significativa entre los grupos.\")\n",
    "else:\n",
    "    print(\"✅ No hay diferencias significativas entre los grupos, lo que indica una correcta división.\")"
   ]
  },
  {
   "cell_type": "markdown",
   "id": "8b231824",
   "metadata": {},
   "source": [
    "Un p-valor de 1.0 y un chi-cuadrado de 0.0 indican que no hay ninguna diferencia estadísticamente significativa entre los grupos. Esto es exactamente lo que esperábamos en la prueba A/A, lo que confirma que la división de los usuarios se realizó correctamente y que el experimento está bien diseñado."
   ]
  },
  {
   "cell_type": "code",
   "execution_count": 121,
   "id": "3833fb1b",
   "metadata": {},
   "outputs": [
    {
     "name": "stdout",
     "output_type": "stream",
     "text": [
      "Evento: MainScreenAppear\n",
      "Usuarios por grupo: \n",
      "exp_id\n",
      "246    2452\n",
      "247    2479\n",
      "248    2498\n",
      "Name: device_id, dtype: int64\n",
      "Chi-cuadrado: 0.0, P-valor: 1.0\n",
      "✅ No hay diferencias significativas entre los grupos para este evento.\n",
      "----------------------------------------------------\n",
      "Evento: OffersScreenAppear\n",
      "Usuarios por grupo: \n",
      "exp_id\n",
      "246    1544\n",
      "247    1526\n",
      "248    1536\n",
      "Name: device_id, dtype: int64\n",
      "Chi-cuadrado: 0.0, P-valor: 1.0\n",
      "✅ No hay diferencias significativas entre los grupos para este evento.\n",
      "----------------------------------------------------\n",
      "Evento: Tutorial\n",
      "Usuarios por grupo: \n",
      "exp_id\n",
      "246    278\n",
      "247    285\n",
      "248    282\n",
      "Name: device_id, dtype: int64\n",
      "Chi-cuadrado: 0.0, P-valor: 1.0\n",
      "✅ No hay diferencias significativas entre los grupos para este evento.\n",
      "----------------------------------------------------\n",
      "Evento: PaymentScreenSuccessful\n",
      "Usuarios por grupo: \n",
      "exp_id\n",
      "246    1200\n",
      "247    1159\n",
      "248    1183\n",
      "Name: device_id, dtype: int64\n",
      "Chi-cuadrado: 0.0, P-valor: 1.0\n",
      "✅ No hay diferencias significativas entre los grupos para este evento.\n",
      "----------------------------------------------------\n",
      "Evento: CartScreenAppear\n",
      "Usuarios por grupo: \n",
      "exp_id\n",
      "246    1267\n",
      "247    1239\n",
      "248    1236\n",
      "Name: device_id, dtype: int64\n",
      "Chi-cuadrado: 0.0, P-valor: 1.0\n",
      "✅ No hay diferencias significativas entre los grupos para este evento.\n",
      "----------------------------------------------------\n"
     ]
    }
   ],
   "source": [
    "# Repite el procedimiento para todos los demás eventos (ahorrarás tiempo si creas una función especial para esta prueba).\n",
    "\n",
    "def chi_events_test(event):\n",
    "    # Contar usuarios por grupo que realizaron el evento\n",
    "    users_per_event = users_filtered[users_filtered[\"event_name\"] == event].groupby(\"exp_id\")[\"device_id\"].nunique()\n",
    "    \n",
    "    # Crear tabla de contingencia\n",
    "    table_chi2 = users_per_event.to_frame().T\n",
    "    \n",
    "    # Ejecutar prueba de chi-cuadrado\n",
    "    chi2, p_valor, _, _ = chi2_contingency(table_chi2)\n",
    "    \n",
    "    return event, users_per_event, chi2, p_valor\n",
    "\n",
    "# Aplicar la función a todos los eventos únicos\n",
    "events_results = [chi_events_test(event) for event in users_filtered[\"event_name\"].unique()]\n",
    "\n",
    "# Mostrar los resultados\n",
    "for event, users, chi2, p_valor in events_results:\n",
    "    print(f\"Evento: {event}\")\n",
    "    print(f\"Usuarios por grupo: \\n{users}\")\n",
    "    print(f\"Chi-cuadrado: {chi2}, P-valor: {p_valor}\")\n",
    "    if p_valor < 0.05:\n",
    "        print(\"⚠️ Hay una diferencia significativa entre los grupos para este evento.\")\n",
    "    else:\n",
    "        print(\"✅ No hay diferencias significativas entre los grupos para este evento.\")\n",
    "    print(\"----------------------------------------------------\")"
   ]
  },
  {
   "cell_type": "markdown",
   "id": "7ff3cc6e",
   "metadata": {},
   "source": [
    "Conclusión\n",
    "\n",
    "La mayoría de los eventos no muestran diferencias estadísticamente significativas, podemos decir que los grupos fueron correctamente divididos."
   ]
  },
  {
   "cell_type": "code",
   "execution_count": 130,
   "id": "56770437",
   "metadata": {},
   "outputs": [
    {
     "name": "stdout",
     "output_type": "stream",
     "text": [
      "Evento: MainScreenAppear\n",
      "Usuarios por grupo: \n",
      "exp_id\n",
      "246    2452\n",
      "247    2479\n",
      "248    2498\n",
      "Name: device_id, dtype: int64\n",
      "Comparación grupo 246 vs 248 → Chi-cuadrado: 0.0, P-value: 1.0\n",
      "✅ No hay diferencia significativa entre el grupo 246 y el experimental.\n",
      "Comparación grupo 247 vs 248 → Chi-cuadrado: 0.0, P-value: 1.0\n",
      "✅ No hay diferencia significativa entre el grupo 247 y el experimental.\n",
      "----------------------------------------------------\n",
      "Evento: OffersScreenAppear\n",
      "Usuarios por grupo: \n",
      "exp_id\n",
      "246    1544\n",
      "247    1526\n",
      "248    1536\n",
      "Name: device_id, dtype: int64\n",
      "Comparación grupo 246 vs 248 → Chi-cuadrado: 0.0, P-value: 1.0\n",
      "✅ No hay diferencia significativa entre el grupo 246 y el experimental.\n",
      "Comparación grupo 247 vs 248 → Chi-cuadrado: 0.0, P-value: 1.0\n",
      "✅ No hay diferencia significativa entre el grupo 247 y el experimental.\n",
      "----------------------------------------------------\n",
      "Evento: Tutorial\n",
      "Usuarios por grupo: \n",
      "exp_id\n",
      "246    278\n",
      "247    285\n",
      "248    282\n",
      "Name: device_id, dtype: int64\n",
      "Comparación grupo 246 vs 248 → Chi-cuadrado: 0.0, P-value: 1.0\n",
      "✅ No hay diferencia significativa entre el grupo 246 y el experimental.\n",
      "Comparación grupo 247 vs 248 → Chi-cuadrado: 0.0, P-value: 1.0\n",
      "✅ No hay diferencia significativa entre el grupo 247 y el experimental.\n",
      "----------------------------------------------------\n",
      "Evento: PaymentScreenSuccessful\n",
      "Usuarios por grupo: \n",
      "exp_id\n",
      "246    1200\n",
      "247    1159\n",
      "248    1183\n",
      "Name: device_id, dtype: int64\n",
      "Comparación grupo 246 vs 248 → Chi-cuadrado: 0.0, P-value: 1.0\n",
      "✅ No hay diferencia significativa entre el grupo 246 y el experimental.\n",
      "Comparación grupo 247 vs 248 → Chi-cuadrado: 0.0, P-value: 1.0\n",
      "✅ No hay diferencia significativa entre el grupo 247 y el experimental.\n",
      "----------------------------------------------------\n",
      "Evento: CartScreenAppear\n",
      "Usuarios por grupo: \n",
      "exp_id\n",
      "246    1267\n",
      "247    1239\n",
      "248    1236\n",
      "Name: device_id, dtype: int64\n",
      "Comparación grupo 246 vs 248 → Chi-cuadrado: 0.0, P-value: 1.0\n",
      "✅ No hay diferencia significativa entre el grupo 246 y el experimental.\n",
      "Comparación grupo 247 vs 248 → Chi-cuadrado: 0.0, P-value: 1.0\n",
      "✅ No hay diferencia significativa entre el grupo 247 y el experimental.\n",
      "----------------------------------------------------\n"
     ]
    }
   ],
   "source": [
    "# Compara los resultados con los de cada uno de los grupos de control para cada evento de forma aislada\n",
    "# Comparar el grupo experimental con cada grupo de control para cada evento\n",
    "\n",
    "def compare_event_with_control(event):\n",
    "    # Count users per group who performed the event\n",
    "    users_per_event = users_filtered[users_filtered[\"event_name\"] == event].groupby(\"exp_id\")[\"device_id\"].nunique()\n",
    "    \n",
    "    # Compare experimental group (248) with each control group\n",
    "    comparisons = {}\n",
    "    for group in [246, 247]:\n",
    "        chi2_table = users_per_event.loc[[group, 248]].to_frame().T\n",
    "        chi2, p_value, _, _ = chi2_contingency(chi2_table)\n",
    "        comparisons[group] = (chi2, p_value)\n",
    "    \n",
    "    return event, users_per_event, comparisons\n",
    "\n",
    "# Apply the function to all unique events\n",
    "individual_results = [compare_event_with_control(event) for event in users_filtered[\"event_name\"].unique()]\n",
    "\n",
    "# Display results\n",
    "for event, users, comparisons in individual_results:\n",
    "    print(f\"Evento: {event}\")\n",
    "    print(f\"Usuarios por grupo: \\n{users}\")\n",
    "    for group, (chi2, p_value) in comparisons.items():\n",
    "        print(f\"Comparación grupo {group} vs 248 → Chi-cuadrado: {chi2}, P-value: {p_value}\")\n",
    "        if p_value < 0.05:\n",
    "            print(f\"⚠️ Diferencia estadísticamente significativa entre el grupo  {group} y el experimental.\")\n",
    "        else:\n",
    "            print(f\"✅ No hay diferencia significativa entre el grupo {group} y el experimental.\")\n",
    "    print(\"----------------------------------------------------\")"
   ]
  },
  {
   "cell_type": "code",
   "execution_count": 131,
   "id": "6ef93dc2",
   "metadata": {},
   "outputs": [
    {
     "name": "stdout",
     "output_type": "stream",
     "text": [
      "Evento: MainScreenAppear\n",
      "Usuarios en grupo experimental: 2498\n",
      "Usuarios combinados en grupos de control: 4931\n",
      "Chi-cuadrado: 0.0, P-value: 1.0\n",
      "✅ No hay diferencia significativa entre el grupo experimental y los controles combinados.\n",
      "----------------------------------------------------\n",
      "Evento: OffersScreenAppear\n",
      "Usuarios en grupo experimental: 1536\n",
      "Usuarios combinados en grupos de control: 3070\n",
      "Chi-cuadrado: 0.0, P-value: 1.0\n",
      "✅ No hay diferencia significativa entre el grupo experimental y los controles combinados.\n",
      "----------------------------------------------------\n",
      "Evento: Tutorial\n",
      "Usuarios en grupo experimental: 282\n",
      "Usuarios combinados en grupos de control: 563\n",
      "Chi-cuadrado: 0.0, P-value: 1.0\n",
      "✅ No hay diferencia significativa entre el grupo experimental y los controles combinados.\n",
      "----------------------------------------------------\n",
      "Evento: PaymentScreenSuccessful\n",
      "Usuarios en grupo experimental: 1183\n",
      "Usuarios combinados en grupos de control: 2359\n",
      "Chi-cuadrado: 0.0, P-value: 1.0\n",
      "✅ No hay diferencia significativa entre el grupo experimental y los controles combinados.\n",
      "----------------------------------------------------\n",
      "Evento: CartScreenAppear\n",
      "Usuarios en grupo experimental: 1236\n",
      "Usuarios combinados en grupos de control: 2506\n",
      "Chi-cuadrado: 0.0, P-value: 1.0\n",
      "✅ No hay diferencia significativa entre el grupo experimental y los controles combinados.\n",
      "----------------------------------------------------\n"
     ]
    }
   ],
   "source": [
    "# Compara los resultados con los resultados combinados de los grupos de control. \n",
    "# Comparar el grupo experimental con cada grupo de control para cada evento\n",
    "\n",
    "def compare_event_with_combined_controls(event):\n",
    "    # Count users per group who performed the event\n",
    "    users_per_event = users_filtered[users_filtered[\"event_name\"] == event].groupby(\"exp_id\")[\"device_id\"].nunique()\n",
    "    \n",
    "    # Combine the control groups\n",
    "    users_control = users_per_event.loc[246] + users_per_event.loc[247]\n",
    "    \n",
    "    # Create contingency table\n",
    "    chi2_table = pd.DataFrame({\"Control\": [users_control], \"Experimental\": [users_per_event.loc[248]]})\n",
    "    \n",
    "    # Execute chi-squared test\n",
    "    chi2, p_value, _, _ = chi2_contingency(chi2_table)\n",
    "    \n",
    "    return event, users_per_event, users_control, chi2, p_value\n",
    "\n",
    "# Apply the function to all unique events\n",
    "combined_results = [compare_event_with_combined_controls(event) for event in users_filtered[\"event_name\"].unique()]\n",
    "\n",
    "# Display results\n",
    "for event, users, users_control, chi2, p_value in combined_results:\n",
    "    print(f\"Evento: {event}\")\n",
    "    print(f\"Usuarios en grupo experimental: {users[248]}\")\n",
    "    print(f\"Usuarios combinados en grupos de control: {users_control}\")\n",
    "    print(f\"Chi-cuadrado: {chi2}, P-value: {p_value}\")\n",
    "    if p_value < 0.05:\n",
    "        print(\"⚠️ Diferencia estadísticamente significativa entre el grupo experimental y los controles combinados.\")\n",
    "    else:\n",
    "        print(\"✅ No hay diferencia significativa entre el grupo experimental y los controles combinados.\")\n",
    "    print(\"----------------------------------------------------\")\n"
   ]
  },
  {
   "cell_type": "markdown",
   "id": "3abe1c0f",
   "metadata": {},
   "source": [
    " Conclusión del experimento:\n",
    " \n",
    "Todos los resultados de las pruebas estadísticas muestran un chi-cuadrado de 0.0 y un p-valor de 1.0, lo que indica que no hay diferencias significativas entre los grupos experimentales y de control.\n",
    "\n",
    "Interpretación de los resultados:\n",
    "- El experimento no tuvo un impacto en el comportamiento de los usuarios.\n",
    "- La modificación aplicada (fuentes alteradas) no afectó la participación en los eventos analizados.\n",
    "- Los grupos fueron correctamente divididos, lo que valida la aleatorización en el diseño del experimento.\n",
    "\n",
    "¿Qué significa esto para el análisis?\n",
    "- Si el objetivo era evaluar el efecto de las fuentes alteradas, estos resultados sugieren que el cambio no generó una respuesta diferente en los usuarios."
   ]
  },
  {
   "cell_type": "markdown",
   "id": "34994a0c",
   "metadata": {},
   "source": [
    "### ¿Qué nivel de significancia has establecido para probar las hipótesis estadísticas mencionadas anteriormente? \n",
    "\n",
    "El nivel de significancia estándar que se ha utilizado en las pruebas estadísticas mencionadas es 0.05 (5%).\n",
    "📌 ¿Por qué 0.05?\n",
    "Este es el umbral más común en estadística para determinar si una diferencia es significativa.\n",
    "\n",
    "- Si el p-valor < 0.05, rechazamos la hipótesis nula y consideramos que hay una diferencia significativa entre los grupos.\n",
    "- Si el p-valor ≥ 0.05, NO rechazamos la hipótesis nula, lo que indica que las diferencias observadas pueden deberse al azar.\n",
    "\n",
    "En este caso, como todos los p-valores fueron ≥ 0.05 (1.0, específicamente), no hay evidencia de que los grupos sean diferentes en cuanto a la participación en los eventos. Esto confirma que el experimento no produjo un impacto estadísticamente significativo en el comportamiento de los usuarios."
   ]
  },
  {
   "cell_type": "markdown",
   "id": "8f5843ac",
   "metadata": {},
   "source": [
    "### Calcula cuántas pruebas de hipótesis estadísticas has realizado.\n",
    "\n",
    "📌 Pruebas realizadas:\n",
    "\n",
    "1. Prueba A/A (comparación de grupos de control 246 vs. 247):\n",
    "- Prueba t de Student (número de eventos por usuario)\n",
    "\n",
    "2. Prueba de igualdad en eventos más populares:\n",
    "- Prueba de chi-cuadrado para cada evento en los grupos de control\n",
    "\n",
    "3. Comparación entre grupo experimental (248) y cada grupo de control (246 y 247):\n",
    "- Prueba de chi-cuadrado para cada evento analizado de forma aislada\n",
    "\n",
    "4. Comparación entre grupo experimental (248) y los grupos de control combinados:\n",
    "- Prueba de chi-cuadrado para cada evento con la combinación de los grupos 246 y 247\n",
    "\n",
    "Total de pruebas realizadas:\n",
    "\n",
    "- Por evento: Se han evaluado 5 eventos principales en cada paso.\n",
    "- Número de pruebas aplicadas por evento: 3 (comparación entre controles, comparación con 248, comparación con controles combinados).\n",
    "- Número total de pruebas: 5 eventos × 3 pruebas = 15 pruebas de hipótesis.\n",
    "\n",
    "Resultado: Hemos realizado 15 pruebas de hipótesis estadísticas para verificar diferencias en los grupos del experimento.\n"
   ]
  },
  {
   "cell_type": "markdown",
   "id": "f43ceea5",
   "metadata": {},
   "source": [
    "### Con un nivel de significancia estadística de 0.1, uno de cada 10 resultados podría ser falso?\n",
    "\n",
    "Sí, en teoría, con un nivel de significancia de 0.1 (10%), hay un 10% de probabilidad de cometer un error Tipo I en cada prueba estadística.\n",
    "\n",
    "¿Qué significa esto?\n",
    "- Error Tipo I: Se rechaza la hipótesis nula cuando en realidad es verdadera. Es decir, detectamos una diferencia que en realidad no existe.\n",
    "- Con α = 0.1, hay 1 de cada 10 pruebas en las que podríamos estar viendo una diferencia que en realidad es solo producto del azar.\n",
    "\n",
    "Comparado con α = 0.05 (5%):\n",
    "- Aumentar el nivel de significancia a 0.1 reduce el rigor del análisis, haciendo más probable que aceptemos diferencias que en realidad son falsas.\n",
    "- En contraste, un α más estricto (como 0.01) hace que solo 1 de cada 100 pruebas tenga una diferencia falsa, pero también incrementa el riesgo de un Error Tipo II (no detectar una diferencia real)."
   ]
  },
  {
   "cell_type": "markdown",
   "id": "c79f5c43",
   "metadata": {},
   "source": [
    "### ¿Cuál debería ser el nivel de significancia?\n",
    "\n",
    " ¿Qué nivel elegir?\n",
    "\n",
    "- Si buscas alta precisión, usa 0.01.\n",
    "- Si el estudio no es crítico y quieres ser más flexible, usa 0.10.\n",
    "- 0.05 es el equilibrio entre rigor y detectabilidad.\n"
   ]
  },
  {
   "cell_type": "code",
   "execution_count": null,
   "id": "75d0f044",
   "metadata": {},
   "outputs": [
    {
     "name": "stdout",
     "output_type": "stream",
     "text": [
      "t-statistic: 0.7523278962554808\n",
      "P-valor: 0.45188931073096283\n",
      "✅ No hay diferencias significativas entre los grupos de control (como se esperaba en una prueba A/A).\n"
     ]
    }
   ],
   "source": [
    "# Obtener la cantidad de eventos por usuario en cada grupo\n",
    "events_246 = users_filtered[users_filtered[\"exp_id\"] == 246].groupby(\"device_id\").size()\n",
    "events_247 = users_filtered[users_filtered[\"exp_id\"] == 247].groupby(\"device_id\").size()\n",
    "\n",
    "# Aplicar prueba t\n",
    "t_stat, p_valor_t = ttest_ind(events_246, events_247)\n",
    "\n",
    "print(f\"t-statistic: {t_stat}\")\n",
    "print(f\"P-valor: {p_valor_t}\")\n",
    "\n",
    "# Interpretación del resultado\n",
    "if p_valor_t < 0.01:\n",
    "    print(\"⚠️ Hay una diferencia estadísticamente significativa entre los grupos 246 y 247.\")\n",
    "else:\n",
    "    print(\"✅ No hay diferencias significativas entre los grupos de control (como se esperaba en una prueba A/A).\")"
   ]
  },
  {
   "cell_type": "markdown",
   "id": "9a1bc294",
   "metadata": {},
   "source": [
    "Conclusiones:\n",
    "\n",
    "- El cambio en el nivel de significancia no afecta la conclusión de esta prueba t.\n",
    "- Los grupos de control siguen siendo equivalentes en términos de eventos por usuario.\n",
    "- Esto refuerza la idea de que la aleatorización del experimento fue adecuada y que cualquier diferencia observada en otros análisis podría deberse a otros factores."
   ]
  },
  {
   "cell_type": "markdown",
   "id": "db8dc2a1",
   "metadata": {},
   "source": [
    "Calcula las pruebas de hipótesis estadísticas con un nivel de significancia de 0.1"
   ]
  },
  {
   "cell_type": "code",
   "execution_count": null,
   "id": "066cee2d",
   "metadata": {},
   "outputs": [
    {
     "name": "stdout",
     "output_type": "stream",
     "text": [
      "Chi-cuadrado: 0.0\n",
      "P-valor: 1.0\n",
      "✅ No hay diferencias significativas entre los grupos, lo que indica una correcta división.\n"
     ]
    }
   ],
   "source": [
    "# Comprueba si la diferencia entre los grupos es estadísticamente significativa.\n",
    "\n",
    "# Construir tabla de contingencia con la cantidad de usuarios que realizaron el evento en cada grupo\n",
    "events_table = users_per_group_event.to_frame().T\n",
    "\n",
    "# Ejecutar prueba de chi-cuadrado\n",
    "chi2, p_valor, _, _ = chi2_contingeny(events_table)\n",
    "\n",
    "print(f\"Chi-cuadrado: {chi2}\")\n",
    "print(f\"P-valor: {p_valor}\")\n",
    "\n",
    "# Interpretación del resultado\n",
    "if p_valor < 0.01:\n",
    "    print(\"⚠️ Hay una diferencia estadísticamente significativa entre los grupos.\")\n",
    "else:\n",
    "    print(\"✅ No hay diferencias significativas entre los grupos, lo que indica una correcta división.\")"
   ]
  },
  {
   "cell_type": "markdown",
   "id": "fb5d83db",
   "metadata": {},
   "source": [
    "Conclusiones:\n",
    "\n",
    "- El cambio en el nivel de significancia no alteró la conclusión.\n",
    "- La aleatorización del experimento sigue siendo válida y bien ejecutada.\n",
    "- Podemos proceder con confianza en la comparación del grupo experimental con los controles."
   ]
  },
  {
   "cell_type": "code",
   "execution_count": 134,
   "id": "433917d5",
   "metadata": {},
   "outputs": [
    {
     "name": "stdout",
     "output_type": "stream",
     "text": [
      "Evento: MainScreenAppear\n",
      "Usuarios por grupo: \n",
      "exp_id\n",
      "246    2452\n",
      "247    2479\n",
      "248    2498\n",
      "Name: device_id, dtype: int64\n",
      "Chi-cuadrado: 0.0, P-valor: 1.0\n",
      "✅ No hay diferencias significativas entre los grupos para este evento.\n",
      "----------------------------------------------------\n",
      "Evento: OffersScreenAppear\n",
      "Usuarios por grupo: \n",
      "exp_id\n",
      "246    1544\n",
      "247    1526\n",
      "248    1536\n",
      "Name: device_id, dtype: int64\n",
      "Chi-cuadrado: 0.0, P-valor: 1.0\n",
      "✅ No hay diferencias significativas entre los grupos para este evento.\n",
      "----------------------------------------------------\n",
      "Evento: Tutorial\n",
      "Usuarios por grupo: \n",
      "exp_id\n",
      "246    278\n",
      "247    285\n",
      "248    282\n",
      "Name: device_id, dtype: int64\n",
      "Chi-cuadrado: 0.0, P-valor: 1.0\n",
      "✅ No hay diferencias significativas entre los grupos para este evento.\n",
      "----------------------------------------------------\n",
      "Evento: PaymentScreenSuccessful\n",
      "Usuarios por grupo: \n",
      "exp_id\n",
      "246    1200\n",
      "247    1159\n",
      "248    1183\n",
      "Name: device_id, dtype: int64\n",
      "Chi-cuadrado: 0.0, P-valor: 1.0\n",
      "✅ No hay diferencias significativas entre los grupos para este evento.\n",
      "----------------------------------------------------\n",
      "Evento: CartScreenAppear\n",
      "Usuarios por grupo: \n",
      "exp_id\n",
      "246    1267\n",
      "247    1239\n",
      "248    1236\n",
      "Name: device_id, dtype: int64\n",
      "Chi-cuadrado: 0.0, P-valor: 1.0\n",
      "✅ No hay diferencias significativas entre los grupos para este evento.\n",
      "----------------------------------------------------\n"
     ]
    }
   ],
   "source": [
    "# Repite el procedimiento para todos los demás eventos (ahorrarás tiempo si creas una función especial para esta prueba).\n",
    "\n",
    "def chi_events_test(event):\n",
    "    # Contar usuarios por grupo que realizaron el evento\n",
    "    users_per_event = users_filtered[users_filtered[\"event_name\"] == event].groupby(\"exp_id\")[\"device_id\"].nunique()\n",
    "    \n",
    "    # Crear tabla de contingencia\n",
    "    table_chi2 = users_per_event.to_frame().T\n",
    "    \n",
    "    # Ejecutar prueba de chi-cuadrado\n",
    "    chi2, p_valor, _, _ = chi2_contingency(table_chi2)\n",
    "    \n",
    "    return event, users_per_event, chi2, p_valor\n",
    "\n",
    "# Aplicar la función a todos los eventos únicos\n",
    "events_results = [chi_events_test(event) for event in users_filtered[\"event_name\"].unique()]\n",
    "\n",
    "# Mostrar los resultados\n",
    "for event, users, chi2, p_valor in events_results:\n",
    "    print(f\"Evento: {event}\")\n",
    "    print(f\"Usuarios por grupo: \\n{users}\")\n",
    "    print(f\"Chi-cuadrado: {chi2}, P-valor: {p_valor}\")\n",
    "    if p_valor < 0.01:\n",
    "        print(\"⚠️ Hay una diferencia significativa entre los grupos para este evento.\")\n",
    "    else:\n",
    "        print(\"✅ No hay diferencias significativas entre los grupos para este evento.\")\n",
    "    print(\"----------------------------------------------------\")"
   ]
  },
  {
   "cell_type": "markdown",
   "id": "69f4bafc",
   "metadata": {},
   "source": [
    "Conclusiones:\n",
    "\n",
    "- El cambio en el nivel de significancia no afectó la interpretación de los resultados.\n",
    "- El experimento no generó un impacto estadísticamente significativo en el comportamiento de los usuarios.\n",
    "- Los grupos fueron correctamente divididos, validando la aleatorización."
   ]
  },
  {
   "cell_type": "code",
   "execution_count": 135,
   "id": "30c61bf7",
   "metadata": {},
   "outputs": [
    {
     "name": "stdout",
     "output_type": "stream",
     "text": [
      "Evento: MainScreenAppear\n",
      "Usuarios por grupo: \n",
      "exp_id\n",
      "246    2452\n",
      "247    2479\n",
      "248    2498\n",
      "Name: device_id, dtype: int64\n",
      "Comparación grupo 246 vs 248 → Chi-cuadrado: 0.0, P-value: 1.0\n",
      "✅ No hay diferencia significativa entre el grupo 246 y el experimental.\n",
      "Comparación grupo 247 vs 248 → Chi-cuadrado: 0.0, P-value: 1.0\n",
      "✅ No hay diferencia significativa entre el grupo 247 y el experimental.\n",
      "----------------------------------------------------\n",
      "Evento: OffersScreenAppear\n",
      "Usuarios por grupo: \n",
      "exp_id\n",
      "246    1544\n",
      "247    1526\n",
      "248    1536\n",
      "Name: device_id, dtype: int64\n",
      "Comparación grupo 246 vs 248 → Chi-cuadrado: 0.0, P-value: 1.0\n",
      "✅ No hay diferencia significativa entre el grupo 246 y el experimental.\n",
      "Comparación grupo 247 vs 248 → Chi-cuadrado: 0.0, P-value: 1.0\n",
      "✅ No hay diferencia significativa entre el grupo 247 y el experimental.\n",
      "----------------------------------------------------\n",
      "Evento: Tutorial\n",
      "Usuarios por grupo: \n",
      "exp_id\n",
      "246    278\n",
      "247    285\n",
      "248    282\n",
      "Name: device_id, dtype: int64\n",
      "Comparación grupo 246 vs 248 → Chi-cuadrado: 0.0, P-value: 1.0\n",
      "✅ No hay diferencia significativa entre el grupo 246 y el experimental.\n",
      "Comparación grupo 247 vs 248 → Chi-cuadrado: 0.0, P-value: 1.0\n",
      "✅ No hay diferencia significativa entre el grupo 247 y el experimental.\n",
      "----------------------------------------------------\n",
      "Evento: PaymentScreenSuccessful\n",
      "Usuarios por grupo: \n",
      "exp_id\n",
      "246    1200\n",
      "247    1159\n",
      "248    1183\n",
      "Name: device_id, dtype: int64\n",
      "Comparación grupo 246 vs 248 → Chi-cuadrado: 0.0, P-value: 1.0\n",
      "✅ No hay diferencia significativa entre el grupo 246 y el experimental.\n",
      "Comparación grupo 247 vs 248 → Chi-cuadrado: 0.0, P-value: 1.0\n",
      "✅ No hay diferencia significativa entre el grupo 247 y el experimental.\n",
      "----------------------------------------------------\n",
      "Evento: CartScreenAppear\n",
      "Usuarios por grupo: \n",
      "exp_id\n",
      "246    1267\n",
      "247    1239\n",
      "248    1236\n",
      "Name: device_id, dtype: int64\n",
      "Comparación grupo 246 vs 248 → Chi-cuadrado: 0.0, P-value: 1.0\n",
      "✅ No hay diferencia significativa entre el grupo 246 y el experimental.\n",
      "Comparación grupo 247 vs 248 → Chi-cuadrado: 0.0, P-value: 1.0\n",
      "✅ No hay diferencia significativa entre el grupo 247 y el experimental.\n",
      "----------------------------------------------------\n"
     ]
    }
   ],
   "source": [
    "# Compara los resultados con los de cada uno de los grupos de control para cada evento de forma aislada\n",
    "# Comparar el grupo experimental con cada grupo de control para cada evento\n",
    "\n",
    "def compare_event_with_control(event):\n",
    "    # Count users per group who performed the event\n",
    "    users_per_event = users_filtered[users_filtered[\"event_name\"] == event].groupby(\"exp_id\")[\"device_id\"].nunique()\n",
    "    \n",
    "    # Compare experimental group (248) with each control group\n",
    "    comparisons = {}\n",
    "    for group in [246, 247]:\n",
    "        chi2_table = users_per_event.loc[[group, 248]].to_frame().T\n",
    "        chi2, p_value, _, _ = chi2_contingency(chi2_table)\n",
    "        comparisons[group] = (chi2, p_value)\n",
    "    \n",
    "    return event, users_per_event, comparisons\n",
    "\n",
    "# Apply the function to all unique events\n",
    "individual_results = [compare_event_with_control(event) for event in users_filtered[\"event_name\"].unique()]\n",
    "\n",
    "# Display results\n",
    "for event, users, comparisons in individual_results:\n",
    "    print(f\"Evento: {event}\")\n",
    "    print(f\"Usuarios por grupo: \\n{users}\")\n",
    "    for group, (chi2, p_value) in comparisons.items():\n",
    "        print(f\"Comparación grupo {group} vs 248 → Chi-cuadrado: {chi2}, P-value: {p_value}\")\n",
    "        if p_value < 0.01:\n",
    "            print(f\"⚠️ Diferencia estadísticamente significativa entre el grupo  {group} y el experimental.\")\n",
    "        else:\n",
    "            print(f\"✅ No hay diferencia significativa entre el grupo {group} y el experimental.\")\n",
    "    print(\"----------------------------------------------------\")"
   ]
  },
  {
   "cell_type": "markdown",
   "id": "471c8617",
   "metadata": {},
   "source": [
    "Conclusiones:\n",
    "\n",
    "- El cambio en la fuente no tuvo un impacto en el comportamiento de los usuarios.\n",
    "- La aleatorización de los grupos fue correcta, ya que la distribución de eventos es homogénea.\n",
    "- Reducir el nivel de significancia a 0.01 no cambió las conclusiones previas, lo que refuerza la idea de que el experimento no generó cambios en los usuarios."
   ]
  },
  {
   "cell_type": "code",
   "execution_count": 136,
   "id": "baf3bee6",
   "metadata": {},
   "outputs": [
    {
     "name": "stdout",
     "output_type": "stream",
     "text": [
      "Evento: MainScreenAppear\n",
      "Usuarios en grupo experimental: 2498\n",
      "Usuarios combinados en grupos de control: 4931\n",
      "Chi-cuadrado: 0.0, P-value: 1.0\n",
      "✅ No hay diferencia significativa entre el grupo experimental y los controles combinados.\n",
      "----------------------------------------------------\n",
      "Evento: OffersScreenAppear\n",
      "Usuarios en grupo experimental: 1536\n",
      "Usuarios combinados en grupos de control: 3070\n",
      "Chi-cuadrado: 0.0, P-value: 1.0\n",
      "✅ No hay diferencia significativa entre el grupo experimental y los controles combinados.\n",
      "----------------------------------------------------\n",
      "Evento: Tutorial\n",
      "Usuarios en grupo experimental: 282\n",
      "Usuarios combinados en grupos de control: 563\n",
      "Chi-cuadrado: 0.0, P-value: 1.0\n",
      "✅ No hay diferencia significativa entre el grupo experimental y los controles combinados.\n",
      "----------------------------------------------------\n",
      "Evento: PaymentScreenSuccessful\n",
      "Usuarios en grupo experimental: 1183\n",
      "Usuarios combinados en grupos de control: 2359\n",
      "Chi-cuadrado: 0.0, P-value: 1.0\n",
      "✅ No hay diferencia significativa entre el grupo experimental y los controles combinados.\n",
      "----------------------------------------------------\n",
      "Evento: CartScreenAppear\n",
      "Usuarios en grupo experimental: 1236\n",
      "Usuarios combinados en grupos de control: 2506\n",
      "Chi-cuadrado: 0.0, P-value: 1.0\n",
      "✅ No hay diferencia significativa entre el grupo experimental y los controles combinados.\n",
      "----------------------------------------------------\n"
     ]
    }
   ],
   "source": [
    "# Compara los resultados con los resultados combinados de los grupos de control. \n",
    "# Comparar el grupo experimental con cada grupo de control para cada evento\n",
    "\n",
    "def compare_event_with_combined_controls(event):\n",
    "    # Count users per group who performed the event\n",
    "    users_per_event = users_filtered[users_filtered[\"event_name\"] == event].groupby(\"exp_id\")[\"device_id\"].nunique()\n",
    "    \n",
    "    # Combine the control groups\n",
    "    users_control = users_per_event.loc[246] + users_per_event.loc[247]\n",
    "    \n",
    "    # Create contingency table\n",
    "    chi2_table = pd.DataFrame({\"Control\": [users_control], \"Experimental\": [users_per_event.loc[248]]})\n",
    "    \n",
    "    # Execute chi-squared test\n",
    "    chi2, p_value, _, _ = chi2_contingency(chi2_table)\n",
    "    \n",
    "    return event, users_per_event, users_control, chi2, p_value\n",
    "\n",
    "# Apply the function to all unique events\n",
    "combined_results = [compare_event_with_combined_controls(event) for event in users_filtered[\"event_name\"].unique()]\n",
    "\n",
    "# Display results\n",
    "for event, users, users_control, chi2, p_value in combined_results:\n",
    "    print(f\"Evento: {event}\")\n",
    "    print(f\"Usuarios en grupo experimental: {users[248]}\")\n",
    "    print(f\"Usuarios combinados en grupos de control: {users_control}\")\n",
    "    print(f\"Chi-cuadrado: {chi2}, P-value: {p_value}\")\n",
    "    if p_value < 0.01:\n",
    "        print(\"⚠️ Diferencia estadísticamente significativa entre el grupo experimental y los controles combinados.\")\n",
    "    else:\n",
    "        print(\"✅ No hay diferencia significativa entre el grupo experimental y los controles combinados.\")\n",
    "    print(\"----------------------------------------------------\")\n"
   ]
  },
  {
   "cell_type": "markdown",
   "id": "be6fc263",
   "metadata": {},
   "source": [
    "Conclusiones:\n",
    "\n",
    "- Reducir el nivel de significancia a 0.01 no cambió las conclusiones.\n",
    "- El experimento no generó impacto en el comportamiento de los usuarios.\n",
    "- La aleatorización de los grupos fue correcta, lo que valida el diseño del experimento."
   ]
  }
 ],
 "metadata": {
  "kernelspec": {
   "display_name": "Python 3",
   "language": "python",
   "name": "python3"
  },
  "language_info": {
   "codemirror_mode": {
    "name": "ipython",
    "version": 3
   },
   "file_extension": ".py",
   "mimetype": "text/x-python",
   "name": "python",
   "nbconvert_exporter": "python",
   "pygments_lexer": "ipython3",
   "version": "3.12.9"
  }
 },
 "nbformat": 4,
 "nbformat_minor": 5
}
